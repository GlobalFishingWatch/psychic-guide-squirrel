{
 "cells": [
  {
   "cell_type": "code",
   "execution_count": 2,
   "metadata": {
    "collapsed": true
   },
   "outputs": [],
   "source": [
    "import numpy as np\n",
    "from osgeo import gdal\n"
   ]
  },
  {
   "cell_type": "code",
   "execution_count": 16,
   "metadata": {
    "collapsed": false
   },
   "outputs": [],
   "source": [
    "filename = \"data/dailytables/fishing_vessel_effort_iso3_gears/tifs/ESP/2015-02-01.tif\"\n",
    "\n",
    "ds = gdal.Open(filename)\n"
   ]
  },
  {
   "cell_type": "code",
   "execution_count": 21,
   "metadata": {
    "collapsed": false
   },
   "outputs": [
    {
     "name": "stdout",
     "output_type": "stream",
     "text": [
      "217.781 12.5951 79.0\n",
      "1761.63 13.7496 1091.0\n",
      "40.9854 11.5082 19.0\n",
      "159.357 34.9999 47.0\n",
      "0.0 0.0 0.0\n",
      "0.0 0.0 0.0\n"
     ]
    }
   ],
   "source": [
    "for i in range(1,7):\n",
    "    myarray = np.array(ds.GetRasterBand(i).ReadAsArray())\n",
    "    print myarray.sum(), myarray.max(),\n",
    "    test_array = np.zeros(shape=(len(myarray),len(myarray[0])))\n",
    "    test_array[myarray>.1] = 1\n",
    "    print test_array.sum()"
   ]
  },
  {
   "cell_type": "code",
   "execution_count": 5,
   "metadata": {
    "collapsed": false
   },
   "outputs": [
    {
     "name": "stdout",
     "output_type": "stream",
     "text": [
      "gsutil cp  data/dailytables/fishing_vessel_effort_iso3_gears/tifs/ESP/2015-01-01.tif gs://david-scratch/iso3_imagecollections/ESP/ESP-2015-01-01.tif\n"
     ]
    }
   ],
   "source": [
    "command = '''gsutil cp  data/dailytables/fishing_vessel_effort_iso3_gears/tifs/ESP/2015-01-01.tif \\\n",
    "gs://david-scratch/iso3_imagecollections/ESP/ESP-2015-01-01.tif'''\n",
    "# import os\n",
    "# os.system(command)\n",
    "print command"
   ]
  },
  {
   "cell_type": "code",
   "execution_count": 28,
   "metadata": {
    "collapsed": false
   },
   "outputs": [
    {
     "data": {
      "text/plain": [
       "0.0"
      ]
     },
     "execution_count": 28,
     "metadata": {},
     "output_type": "execute_result"
    }
   ],
   "source": [
    "filename = \"ZAF-2015-12-21.tif\"\n",
    "ds = gdal.Open(filename)\n",
    "myarray = np.array(ds.GetRasterBand(4).ReadAsArray())\n",
    "myarray.sum()"
   ]
  },
  {
   "cell_type": "code",
   "execution_count": 20,
   "metadata": {
    "collapsed": true
   },
   "outputs": [],
   "source": [
    "from os import listdir\n",
    "from os.path import isfile, join\n",
    "import os \n",
    "import subprocess\n",
    "\n",
    "mypath = 'data/dailytables/fishing_vessel_effort_iso3_gears/tifs'\n",
    "files = [f for f in listdir(mypath) if isfile(join(mypath, f))]\n",
    "\n",
    "dirs = [d for d in os.listdir(mypath) if os.path.isdir(join(mypath, d))]\n"
   ]
  },
  {
   "cell_type": "code",
   "execution_count": 22,
   "metadata": {
    "collapsed": false
   },
   "outputs": [],
   "source": [
    "command = '''earthengine rm -r projects/globalfishingwatch/'''\n",
    "commands = []\n",
    "for d in dirs[1:]:\n",
    "    if d != \"start\":\n",
    "        commands.append(command + d)\n"
   ]
  },
  {
   "cell_type": "code",
   "execution_count": 25,
   "metadata": {
    "collapsed": false,
    "scrolled": false
   },
   "outputs": [],
   "source": [
    "# import subprocess\n",
    "\n",
    "# for command in commands:\n",
    "#     p = subprocess.Popen(command, stdout=subprocess.PIPE, shell=True)\n",
    "\n",
    "#     (output, err) = p.communicate()  \n",
    "\n",
    "#     #This makes the wait possible\n",
    "#     p_status = p.wait()\n",
    "\n",
    "#     #This will give you the output of the command being executed\n",
    "#     print \"Command output: \" + output"
   ]
  },
  {
   "cell_type": "code",
   "execution_count": null,
   "metadata": {
    "collapsed": true
   },
   "outputs": [],
   "source": []
  }
 ],
 "metadata": {
  "kernelspec": {
   "display_name": "Python 2",
   "language": "python",
   "name": "python2"
  },
  "language_info": {
   "codemirror_mode": {
    "name": "ipython",
    "version": 2
   },
   "file_extension": ".py",
   "mimetype": "text/x-python",
   "name": "python",
   "nbconvert_exporter": "python",
   "pygments_lexer": "ipython2",
   "version": "2.7.13"
  }
 },
 "nbformat": 4,
 "nbformat_minor": 2
}
