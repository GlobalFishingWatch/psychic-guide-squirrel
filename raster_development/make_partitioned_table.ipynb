{
 "cells": [
  {
   "cell_type": "code",
   "execution_count": 3,
   "metadata": {
    "collapsed": false
   },
   "outputs": [],
   "source": [
    "from datetime import datetime, timedelta\n",
    "import os\n",
    "import subprocess\n",
    "\n",
    "table = \"nn\""
   ]
  },
  {
   "cell_type": "code",
   "execution_count": 118,
   "metadata": {
    "collapsed": false
   },
   "outputs": [],
   "source": [
    "q = '''SELECT   scaled,   course,   tagblock_station,   cs,   speed,   unit,   gridcode,  \n",
    "distance_from_port,   lc,   nnet_score,   lon,   commstate_cs_fill,   type,   distance_from_shore, \n",
    "timestamp(timestamp) timestamp,   band,   lat,   mode,   heading,   slot_timeout,   tagblock_T,  \n",
    "spare2,   second,   sync_state,   tagblock_timestamp,   regions,   dsc,   msg22,   accuracy,   status, \n",
    "maneuver,   repeat,   tagblock_q,   mmsi,   raim,   spare,   device,   measure_new_score,   class, \n",
    "display,   turn,   seg_id,   slot_offset,   status_text FROM   [world-fishing-827:scratch_david.nn_allyears_20170411]\n",
    "'''\n",
    "# make the table partitioned"
   ]
  },
  {
   "cell_type": "code",
   "execution_count": 4,
   "metadata": {
    "collapsed": false
   },
   "outputs": [],
   "source": [
    "def divide_table(startdate_enddate):\n",
    "    s = startdate_enddate.split(\"_\")\n",
    "    startdate = datetime.strptime(s[0],\"%Y%m%d\")\n",
    "    enddate = datetime.strptime(s[1],\"%Y%m%d\")\n",
    "    num_days = (enddate-startdate).days\n",
    "    half = int(num_days / 2)\n",
    "    middate = startdate + timedelta(days=half)\n",
    "#     print startdate, middate, enddate\n",
    "    startdate_formatted = startdate.strftime(\"%Y-%m-%d\")\n",
    "    middate_formatted = (middate+timedelta(days=1)).strftime(\"%Y-%m-%d\")\n",
    "    q = '''select * from [scratch_david.{table}__{startdate_enddate}] where \\\n",
    "    timestamp < timestamp(\"{middate_formatted}\")'''.format(\\\n",
    "         table = table ,startdate_enddate=startdate_enddate, \n",
    "        middate_formatted = middate_formatted)    \n",
    "    \n",
    "    \n",
    "    if s[0] == middate.strftime(\"%Y%m%d\"):\n",
    "        out_table =  table+\"_\"+s[0]\n",
    "    else:\n",
    "        out_table =  table+\"__\"+s[0]+\"_\"+middate.strftime(\"%Y%m%d\")  \n",
    "    command1 = \"bq query  --replace=TRUE \\\n",
    "--destination_table=scratch_david.{out_table} --allow_large_results '{q}'\".format(out_table = out_table, q=q)\n",
    "#     print command\n",
    "#     os.system(command)\n",
    "    \n",
    "    middate2 = middate + timedelta(days=1)   \n",
    "    q = '''select * from [scratch_david.{table}__{startdate_enddate}] where \\\n",
    "    timestamp >= timestamp(\"{middate_formatted}\")'''.format(\\\n",
    "         table = table ,startdate_enddate=startdate_enddate, \n",
    "        middate_formatted = middate_formatted)    \n",
    "    \n",
    "    \n",
    "    if middate2.strftime(\"%Y%m%d\") == s[1]:\n",
    "        out_table = table+\"_\"+s[1]\n",
    "    else:\n",
    "        out_table = table+\"__\"+middate2.strftime(\"%Y%m%d\")+\"_\"+s[1]\n",
    "    command2 = \"bq query  --replace=TRUE \\\n",
    "--destination_table=scratch_david.{out_table} --allow_large_results '{q}'\".format(out_table = out_table, q=q)\n",
    "#     print command\n",
    "#     os.system(command)\n",
    "    return [command1, command2]\n"
   ]
  },
  {
   "cell_type": "code",
   "execution_count": null,
   "metadata": {
    "collapsed": true
   },
   "outputs": [],
   "source": []
  },
  {
   "cell_type": "code",
   "execution_count": 6,
   "metadata": {
    "collapsed": false
   },
   "outputs": [
    {
     "name": "stdout",
     "output_type": "stream",
     "text": [
      "Number of tables on this round: 0\n"
     ]
    }
   ],
   "source": [
    "for i in range(1):\n",
    "    proc = subprocess.Popen([\"bq ls --max_results 20000 scratch_david\"], stdout=subprocess.PIPE, shell=True)\n",
    "    (out, err) = proc.communicate()\n",
    "    toprocess = out\n",
    "    tp2 = toprocess.split(\"\\n\")\n",
    "    tp2 = [t.replace(\" \",\"\").replace(\"TABLE\",\"\") for t in tp2]\n",
    "\n",
    "    # get the tables that already exist\n",
    "    tp3 = []\n",
    "    for t in tp2:\n",
    "        if t[:4] == \"nn__\":\n",
    "            tp3.append(t)\n",
    "\n",
    "    commands = []\n",
    "    for t in tp3:\n",
    "        commands += divide_table(t[4:])\n",
    "\n",
    "    # use gnu parallel to run all the queries\n",
    "\n",
    "    with open('commands.txt', 'w') as f:\n",
    "        f.write(\"\\n\".join(commands))\n",
    "\n",
    "    os.system(\"parallel -j 16 < commands.txt\")\n",
    "    os.system(\"rm -f remove_commands.txt\")\n",
    "\n",
    "    # delete the old tables\n",
    "    commands = []\n",
    "    for t in tp3:\n",
    "        commands.append(\"bq rm -f scratch_david.\"+t)\n",
    "\n",
    "    with open('commands.txt', 'w') as f:\n",
    "        f.write(\"\\n\".join(commands))\n",
    "\n",
    "    os.system(\"parallel -j 16 < commands.txt\")\n",
    "    os.system(\"rm -f remove_commands.txt\")\n",
    "    print \"Number of tables on this round:\",len(commands)\n"
   ]
  },
  {
   "cell_type": "code",
   "execution_count": null,
   "metadata": {
    "collapsed": true
   },
   "outputs": [],
   "source": []
  }
 ],
 "metadata": {
  "kernelspec": {
   "display_name": "Python 2",
   "language": "python",
   "name": "python2"
  },
  "language_info": {
   "codemirror_mode": {
    "name": "ipython",
    "version": 2
   },
   "file_extension": ".py",
   "mimetype": "text/x-python",
   "name": "python",
   "nbconvert_exporter": "python",
   "pygments_lexer": "ipython2",
   "version": "2.7.13"
  }
 },
 "nbformat": 4,
 "nbformat_minor": 2
}
