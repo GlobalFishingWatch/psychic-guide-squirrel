{
 "cells": [
  {
   "cell_type": "code",
   "execution_count": 10,
   "metadata": {
    "collapsed": false
   },
   "outputs": [],
   "source": [
    "import numpy as np\n",
    "import matplotlib.pyplot as plt\n",
    "from mpl_toolkits.basemap import Basemap\n",
    "import matplotlib\n",
    "from matplotlib import colors,colorbar\n",
    "%matplotlib inline\n",
    "import csv \n",
    "import math\n",
    "import bq\n",
    "import time\n",
    "import cPickle \n",
    "from matplotlib.patches import Polygon\n"
   ]
  },
  {
   "cell_type": "code",
   "execution_count": 2,
   "metadata": {
    "collapsed": true
   },
   "outputs": [],
   "source": [
    "client = bq.Client.Get()\n",
    "def Query(q):\n",
    "    t0 = time.time()\n",
    "    answer = client.ReadTableRows(client.Query(q)['configuration']['query']['destinationTable'])\n",
    "    #print 'Query time: ' + str(time.time() - t0) + ' seconds.'\n",
    "    return answer\n",
    "\n",
    "cellsize = .1\n",
    "one_over_cellsize = 10\n",
    "if cellsize < 1:\n",
    "    num_lons = 360*one_over_cellsize\n",
    "    num_lats = 180 *one_over_cellsize\n",
    "else:\n",
    "    num_lons = 360/cellsize\n",
    "    num_lats = 180/cellsize\n",
    "\n",
    "numlons = num_lons\n",
    "numlats = num_lats # because I used things incorrectly in later code\n",
    "\n",
    "def get_area(lat):\n",
    "    lat_degree = 69 # miles\n",
    "    # Convert latitude and longitude to \n",
    "    # spherical coordinates in radians.\n",
    "    degrees_to_radians = math.pi/180.0        \n",
    "    # phi = 90 - latitude\n",
    "    phi = (lat+cellsize/2.)*degrees_to_radians #plus half a cell size to get the middle\n",
    "    lon_degree = math.cos(phi)*lat_degree \n",
    "    # return 69*69*2.6\n",
    "    return  lat_degree*lon_degree* 2.58999 # miles to square km"
   ]
  },
  {
   "cell_type": "code",
   "execution_count": 3,
   "metadata": {
    "collapsed": true
   },
   "outputs": [],
   "source": [
    "def make_raster(filename, vessel_days, output_name='', map_title = 'Density of Vessels with AIS'):\n",
    "\n",
    "    plt.rcParams[\"figure.figsize\"] = [12,7]\n",
    "\n",
    "    cutoff = 0 # 5 degress away from the pole\n",
    "    firstlat = 90-cutoff\n",
    "    lastlat = -90+cutoff\n",
    "    firstlon = -180\n",
    "    lastlon = 180\n",
    "    scale = cellsize\n",
    "\n",
    "    vessel_days_truncated = vessel_days[one_over_cellsize*cutoff:(180*one_over_cellsize)-one_over_cellsize*cutoff][:]\n",
    "\n",
    "    numlats = int((firstlat-lastlat)/scale+.5)\n",
    "    numlons = int((lastlon-firstlon)/scale+.5)\n",
    "\n",
    "    lat_boxes = np.linspace(lastlat,firstlat,num=numlats,endpoint=False)\n",
    "    lon_boxes = np.linspace(firstlon,lastlon,num=numlons,endpoint=False)\n",
    "\n",
    "    fig = plt.figure()\n",
    "    m = Basemap(llcrnrlat=lastlat, urcrnrlat=firstlat,\n",
    "              llcrnrlon=lastlon, urcrnrlon=firstlon, lat_ts=0, projection='robin',resolution=\"h\", lon_0=0)\n",
    "    \n",
    "#     m = Basemap(llcrnrlat=lastlat, urcrnrlat=firstlat,\n",
    "#               llcrnrlon=lastlon, urcrnrlon=firstlon, projection='mil',resolution=\"h\", lon_0=0)\n",
    "\n",
    "    m.drawmapboundary(fill_color='#111111')\n",
    "    # m.drawcoastlines(linewidth=.2)\n",
    "    # m.fillcontinents('#111111',lake_color='#111111')#, lake_color, ax, zorder, alpha)\n",
    "\n",
    "    x = np.linspace(firstlon, lastlon, 360*one_over_cellsize)\n",
    "    y = np.linspace(lastlat, firstlat, (firstlat-lastlat)*one_over_cellsize)\n",
    "    x, y = np.meshgrid(x, y)\n",
    "    converted_x, converted_y = m(x, y)\n",
    "    from matplotlib import colors,colorbar\n",
    "\n",
    "    maximum = 100\n",
    "    minimum = .0001\n",
    "\n",
    "    norm = colors.LogNorm(vmin=minimum, vmax=maximum)\n",
    "    # norm = colors.Normalize(vmin=0, vmax=1000)\n",
    "\n",
    "    m.pcolormesh(converted_x, converted_y, vessel_days_truncated, norm=norm, vmin=minimum, vmax=maximum, cmap = plt.get_cmap('viridis'))\n",
    "    \n",
    "    \n",
    "    t = map_title\n",
    "    plt.title(t, color = \"#ffffff\", fontsize=18)\n",
    "\n",
    "    ax = fig.add_axes([0.2, 0.1, 0.4, 0.02]) #x coordinate , \n",
    "    norm = colors.LogNorm(vmin=minimum, vmax=maximum)\n",
    "    # norm = colors.Normalize(vmin=0, vmax=1000)\n",
    "    lvls = np.logspace(np.log10(minimum),np.log10(maximum),num=8)\n",
    "    cb = colorbar.ColorbarBase(ax,norm = norm, orientation='horizontal', ticks=lvls, cmap = plt.get_cmap('viridis'))\n",
    "\n",
    "    \n",
    "    \n",
    "    the_labels = []\n",
    "    for l in lvls:\n",
    "        if l>=1:\n",
    "            l = int(l)\n",
    "        the_labels.append(l)\n",
    "\n",
    "    #cb.ax.set_xticklabels([\"0\" ,round(m3**.5,1), m3, round(m3**1.5,1), m3*m3,round(m3**2.5,1), str(round(m3**3,1))+\"+\"], fontsize=10)\n",
    "    cb.ax.set_xticklabels(the_labels, fontsize=10, color = \"#ffffff\")\n",
    "    cb.set_label('Average Number of Vessels per 10,000 km$\\mathregular{^2}$ in 2015',labelpad=-40, y=0.45, color = \"#ffffff\")\n",
    "\n",
    "    ax.text(1.7, -0.5, 'Data Source: Orbcomm\\nMap by Global Fishing Watch',\n",
    "            verticalalignment='bottom', horizontalalignment='right',\n",
    "            transform=ax.transAxes,\n",
    "            color='#ffffff', fontsize=6)\n",
    "\n",
    "    plt.savefig(filename+\".png\",bbox_inches='tight',dpi=300,transparent=True,pad_inches=.1, facecolor=\"#000000\")\n",
    "    plt.show()"
   ]
  },
  {
   "cell_type": "code",
   "execution_count": 5,
   "metadata": {
    "collapsed": false
   },
   "outputs": [
    {
     "name": "stdout",
     "output_type": "stream",
     "text": [
      "Waiting on bqjob_r16a6c08986d19129_00000155a1d39a7a_1 ... (3s) Current status: DONE   \n",
      "Waiting on bqjob_r19b79abc6f163fea_00000155a1d3b8d8_2 ... (5s) Current status: DONE   \n",
      "Waiting on bqjob_r17c74df1d9ac73ce_00000155a1d3e5fd_3 ... (5s) Current status: DONE   \n",
      "Waiting on bqjob_r4dc6a0a7e6db8e8d_00000155a1d41291_4 ... (4s) Current status: DONE   \n"
     ]
    }
   ],
   "source": [
    "vessel_query = []\n",
    "\n",
    "thedate = \"20160101\"\n",
    "\n",
    "yyyy = thedate[:4]\n",
    "mm = thedate[4:6]\n",
    "dd = thedate[6:8]\n",
    "\n",
    "for i in range(4):\n",
    "    q = '''\n",
    "SELECT\n",
    "  INTEGER(FLOOR(lat*10)) lat_bin,\n",
    "  INTEGER(FLOOR(lon*10)) lon_bin,\n",
    "  SUM(IF(last_timestamp IS NOT NULL, (timestamp-last_timestamp)/3600000000, \n",
    "    (timestamp - TIMESTAMP(\"'''+yyyy+'-'+mm+\"-\"+dd+''' 00:00:00\"))/3600000000)/2 + \n",
    "IF(next_timestamp IS NOT NULL, (next_timestamp - timestamp)/3600000000, \n",
    "  (TIMESTAMP(\"'''+yyyy+'-'+mm+\"-\"+dd+''' 23:59:59\") - timestamp)/3600000000 )/2) hours\n",
    "FROM\n",
    "  [pipeline_classify_logistic_661b_bined.'''+thedate+''']\n",
    "WHERE\n",
    "  seg_id NOT IN (\n",
    "  SELECT\n",
    "    seg_id\n",
    "  FROM\n",
    "    [scratch_david_seg_analysis_661b.'''+thedate[:4]+'''_segments]\n",
    "  WHERE\n",
    "    (point_count<20\n",
    "      AND terrestrial_positions = point_count)\n",
    "    OR ((min_lon >= 0 // these are almost definitely noise\n",
    "        AND max_lon <= 0.109225)\n",
    "      OR (min_lat >= 0\n",
    "        AND max_lat <= 0.109225) ))\n",
    "and lon > '''+ str(i*90-180) + ''' and lon < '''+ str(i*90-90)+'''\n",
    "GROUP BY\n",
    "  lat_bin,\n",
    "  lon_bin'''\n",
    " \n",
    "\n",
    "    vessel_query+= Query(q)\n",
    "    "
   ]
  },
  {
   "cell_type": "code",
   "execution_count": 7,
   "metadata": {
    "collapsed": false
   },
   "outputs": [],
   "source": [
    "vessel_hours = np.zeros(shape=(num_lats,num_lons))\n",
    "\n",
    "for row in vessel_query_filtered5:\n",
    "    lat = int(row[0])\n",
    "    lon = int(row[1])\n",
    "    if lat<90*one_over_cellsize and lat>-90*one_over_cellsize and lon>-180*one_over_cellsize and lon<180*one_over_cellsize:\n",
    "        lat_index = lat+90*one_over_cellsize\n",
    "        lon_index = lon+180*one_over_cellsize\n",
    "        hours = float(row[2])\n",
    "        vessel_hours[lat_index][lon_index] = hours\n",
    "#         area = get_area(lat*float(cellsize)) # approximate area of 1 by 1 degree at a given lat\n",
    "#         vessel_days[lat_index][lon_index] = days / (24*365.* area*cellsize*cellsize)*10000 #vessels per day per 10,000 square km\n",
    "         "
   ]
  },
  {
   "cell_type": "code",
   "execution_count": 9,
   "metadata": {
    "collapsed": false
   },
   "outputs": [
    {
     "data": {
      "image/png": "[encoded data removed]",
      "text/plain": [
       "<matplotlib.figure.Figure at 0x10d4830d0>"
      ]
     },
     "metadata": {},
     "output_type": "display_data"
    }
   ],
   "source": [
    "make_raster(thedate, vessel_hours, output_name='', map_title = 'Density of Vessels with AIS')"
   ]
  },
  {
   "cell_type": "code",
   "execution_count": null,
   "metadata": {
    "collapsed": true
   },
   "outputs": [],
   "source": []
  }
 ],
 "metadata": {
  "kernelspec": {
   "display_name": "Python 2",
   "language": "python",
   "name": "python2"
  },
  "language_info": {
   "codemirror_mode": {
    "name": "ipython",
    "version": 2
   },
   "file_extension": ".py",
   "mimetype": "text/x-python",
   "name": "python",
   "nbconvert_exporter": "python",
   "pygments_lexer": "ipython2",
   "version": "2.7.3"
  }
 },
 "nbformat": 4,
 "nbformat_minor": 0
}
