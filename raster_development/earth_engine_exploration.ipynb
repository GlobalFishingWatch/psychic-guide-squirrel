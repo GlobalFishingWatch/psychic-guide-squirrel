{
 "cells": [
  {
   "cell_type": "code",
   "execution_count": 58,
   "metadata": {
    "collapsed": true
   },
   "outputs": [],
   "source": [
    "import ee\n",
    "from datetime import datetime"
   ]
  },
  {
   "cell_type": "code",
   "execution_count": 2,
   "metadata": {
    "collapsed": true
   },
   "outputs": [],
   "source": [
    "ee.Initialize()"
   ]
  },
  {
   "cell_type": "code",
   "execution_count": 15,
   "metadata": {
    "collapsed": false
   },
   "outputs": [
    {
     "ename": "AttributeError",
     "evalue": "'module' object has no attribute 'getList'",
     "output_type": "error",
     "traceback": [
      "\u001b[0;31m---------------------------------------------------------------------------\u001b[0m",
      "\u001b[0;31mAttributeError\u001b[0m                            Traceback (most recent call last)",
      "\u001b[0;32m<ipython-input-15-9291d853c1b7>\u001b[0m in \u001b[0;36m<module>\u001b[0;34m()\u001b[0m\n\u001b[0;32m----> 1\u001b[0;31m \u001b[0mee\u001b[0m\u001b[0;34m.\u001b[0m\u001b[0mgetList\u001b[0m\u001b[0;34m(\u001b[0m\u001b[0;34m'project/globalfishingwatch/ESP'\u001b[0m\u001b[0;34m)\u001b[0m\u001b[0;34m\u001b[0m\u001b[0m\n\u001b[0m",
      "\u001b[0;31mAttributeError\u001b[0m: 'module' object has no attribute 'getList'"
     ]
    }
   ],
   "source": [
    "ee.data.getList(  ) #ist('project/globalfishingwatch/ESP')"
   ]
  },
  {
   "cell_type": "code",
   "execution_count": 12,
   "metadata": {
    "collapsed": false,
    "scrolled": true
   },
   "outputs": [
    {
     "name": "stdout",
     "output_type": "stream",
     "text": [
      "{u'task_type': u'INGEST', u'description': u'Asset ingestion: projects/globalfishingwatch/YEM/2017-04-06', u'output_url': [u'https://code.earthengine.google.com/?asset=projects/globalfishingwatch/YEM/2017-04-06'], u'update_timestamp_ms': 1493004024460, u'creation_timestamp_ms': 1493003998561, u'state': u'COMPLETED', u'start_timestamp_ms': 1493004003145, u'id': u'6H6FXB3Y6SGOYWWIGG5IVHBX'}\n"
     ]
    }
   ],
   "source": [
    "for t in  ee.data.getTaskList():\n",
    "    print t \n",
    "    break"
   ]
  },
  {
   "cell_type": "code",
   "execution_count": 19,
   "metadata": {
    "collapsed": false
   },
   "outputs": [],
   "source": []
  },
  {
   "cell_type": "code",
   "execution_count": 23,
   "metadata": {
    "collapsed": false
   },
   "outputs": [
    {
     "name": "stdout",
     "output_type": "stream",
     "text": [
      "bands\n",
      "version\n",
      "type\n",
      "id\n",
      "features\n"
     ]
    }
   ],
   "source": [
    "for a in c.getInfo():\n",
    "#     print aid\n",
    "    print a, \n",
    "    "
   ]
  },
  {
   "cell_type": "code",
   "execution_count": 56,
   "metadata": {
    "collapsed": false,
    "scrolled": true
   },
   "outputs": [
    {
     "data": {
      "text/plain": [
       "{u'2017-03-23',\n",
       " u'2017-03-24',\n",
       " u'2017-03-25',\n",
       " u'2017-03-26',\n",
       " u'2017-03-27',\n",
       " u'2017-03-28',\n",
       " u'2017-03-29',\n",
       " u'2017-03-30',\n",
       " u'2017-03-31',\n",
       " u'2017-04-01',\n",
       " u'2017-04-02',\n",
       " u'2017-04-03',\n",
       " u'2017-04-04',\n",
       " u'2017-04-05',\n",
       " u'2017-04-06',\n",
       " u'2017-04-07'}"
      ]
     },
     "execution_count": 56,
     "metadata": {},
     "output_type": "execute_result"
    }
   ],
   "source": [
    "c = ee.ImageCollection(collection)\n",
    "allready_ingested = set()\n",
    "for f in c.getInfo()['features']:\n",
    "    allready_ingested.add(f['id'].split(\"/\")[-1])\n",
    "\n",
    "allready_ingested\n"
   ]
  },
  {
   "cell_type": "code",
   "execution_count": 83,
   "metadata": {
    "collapsed": false,
    "scrolled": false
   },
   "outputs": [
    {
     "name": "stdout",
     "output_type": "stream",
     "text": [
      "2017-04-07\n",
      "2017-04-04\n",
      "2017-04-06\n",
      "2017-04-05\n",
      "2017-04-02\n",
      "2017-04-01\n",
      "2017-04-03\n",
      "2017-03-31\n",
      "2017-03-29\n",
      "2017-03-30\n",
      "2017-03-27\n",
      "2017-03-26\n",
      "2017-03-28\n",
      "2017-03-25\n",
      "2017-03-23\n",
      "2017-03-24\n"
     ]
    }
   ],
   "source": [
    "collection = \"projects/globalfishingwatch/ESP\"\n",
    "\n",
    "\n",
    "import posixpath as pp\n",
    "try:\n",
    "    from urlparse import urlsplit\n",
    "except ImportError:\n",
    "    from urllib.parse import urlsplit\n",
    "    \n",
    "today = datetime.datetime.now()\n",
    "\n",
    "for t in ee.data.getTaskList():\n",
    "    if t['task_type'] == 'INGEST':\n",
    "        o_path = t['description'].lower().split('asset ingestion: ')[1]\n",
    "        # Image was already successfully ingested\n",
    "        if t['state'] == 'COMPLETED':\n",
    "            created = datetime.fromtimestamp(t['creation_timestamp_ms']/1000.) \n",
    "            url = urlsplit(t['output_url'][0])\n",
    "            o_path = url.query.split('asset=')[1]\n",
    "            if pp.dirname(o_path).rstrip('/') == collection:\n",
    "#                 print created, today, (today-created).days\n",
    "#                 print pp.basename(o_path), pp.basename(o_path) not in allready_ingested\n",
    "                if (today-created).days<1 or pp.basename(o_path) in allready_ingested:\n",
    "                    #completed.add(pp.basename(o_path))\n",
    "                    print pp.basename(o_path)\n",
    "        # Image is currently being ingested\n",
    "        elif t['state'] == 'RUNNING':\n",
    "            if pp.dirname(o_path).rstrip('/') == collection:\n",
    "                completed.add(pp.basename(o_path))\n",
    "#                 discovered_running.add(t['id'])\n"
   ]
  },
  {
   "cell_type": "code",
   "execution_count": null,
   "metadata": {
    "collapsed": false
   },
   "outputs": [],
   "source": []
  },
  {
   "cell_type": "code",
   "execution_count": 63,
   "metadata": {
    "collapsed": false
   },
   "outputs": [
    {
     "name": "stdout",
     "output_type": "stream",
     "text": [
      "2017-04-24 12:43:27.358546\n"
     ]
    }
   ],
   "source": [
    "print today"
   ]
  },
  {
   "cell_type": "code",
   "execution_count": 66,
   "metadata": {
    "collapsed": false
   },
   "outputs": [
    {
     "name": "stdout",
     "output_type": "stream",
     "text": [
      "2017-04-23 20:19:58.561000\n"
     ]
    }
   ],
   "source": [
    "print created"
   ]
  },
  {
   "cell_type": "code",
   "execution_count": 70,
   "metadata": {
    "collapsed": false
   },
   "outputs": [
    {
     "name": "stdout",
     "output_type": "stream",
     "text": [
      "0\n"
     ]
    }
   ],
   "source": [
    "print (today-created).days"
   ]
  },
  {
   "cell_type": "code",
   "execution_count": null,
   "metadata": {
    "collapsed": true
   },
   "outputs": [],
   "source": []
  }
 ],
 "metadata": {
  "kernelspec": {
   "display_name": "Python 2",
   "language": "python",
   "name": "python2"
  },
  "language_info": {
   "codemirror_mode": {
    "name": "ipython",
    "version": 2
   },
   "file_extension": ".py",
   "mimetype": "text/x-python",
   "name": "python",
   "nbconvert_exporter": "python",
   "pygments_lexer": "ipython2",
   "version": "2.7.13"
  }
 },
 "nbformat": 4,
 "nbformat_minor": 2
}
