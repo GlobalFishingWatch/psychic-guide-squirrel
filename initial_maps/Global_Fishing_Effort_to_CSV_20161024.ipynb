{
 "cells": [
  {
   "cell_type": "markdown",
   "metadata": {},
   "source": [
    "# Global Fishing Effort"
   ]
  },
  {
   "cell_type": "code",
   "execution_count": 3,
   "metadata": {
    "collapsed": false
   },
   "outputs": [],
   "source": [
    "import time\n",
    "import numpy as np\n",
    "import matplotlib.pyplot as plt\n",
    "from mpl_toolkits.basemap import Basemap\n",
    "import matplotlib\n",
    "from matplotlib import colors,colorbar\n",
    "import matplotlib\n",
    "%matplotlib inline\n",
    "import csv \n",
    "import math\n",
    "from math import radians, cos, sin, asin, sqrt\n",
    "# from scipy import stats\n",
    "import bq"
   ]
  },
  {
   "cell_type": "code",
   "execution_count": 4,
   "metadata": {
    "collapsed": false
   },
   "outputs": [],
   "source": [
    "client = bq.Client.Get()\n",
    "def Query(q):\n",
    "    t0 = time.time()\n",
    "    answer = client.ReadTableRows(client.Query(q)['configuration']['query']['destinationTable'])\n",
    "    #print 'Query time: ' + str(time.time() - t0) + ' seconds.'\n",
    "    return answer"
   ]
  },
  {
   "cell_type": "code",
   "execution_count": 6,
   "metadata": {
    "collapsed": true
   },
   "outputs": [],
   "source": [
    "# create a bounding box:\n",
    "max_lat = 85\n",
    "min_lat = -80\n",
    "max_lon = 180\n",
    "min_lon = -180\n",
    "\n",
    "\n",
    "# for the mapping\n",
    "firstlat = max_lat\n",
    "lastlat =  min_lat\n",
    "firstlon = min_lon\n",
    "lastlon = max_lon\n",
    "\n",
    "# scale of the \n",
    "cellsize = 1\n",
    "scale = cellsize\n",
    "one_over_cellsize = 1\n",
    "\n",
    "# num_lats = (max_lat-min_lat)*one_over_cellsize+1\n",
    "# num_lons = (max_lon-min_lon)*one_over_cellsize+1\n",
    "numlats = int((firstlat-lastlat)/scale+.5)\n",
    "numlons = int((lastlon-firstlon)/scale+.5)"
   ]
  },
  {
   "cell_type": "markdown",
   "metadata": {},
   "source": [
    "# Get The Data"
   ]
  },
  {
   "cell_type": "code",
   "execution_count": 14,
   "metadata": {
    "collapsed": false
   },
   "outputs": [
    {
     "name": "stdout",
     "output_type": "stream",
     "text": [
      "\r",
      "Waiting on bqjob_r2bf1d737632ab8ed_00000157f4f31a7f_3 ... (0s) Current status: DONE   \n"
     ]
    }
   ],
   "source": [
    "year = 2015\n",
    "q = '''SELECT\n",
    "  INTEGER(FLOOR(lat*{one_over_cellsize})) lat_bin,\n",
    "  INTEGER(FLOOR(lon*{one_over_cellsize})) lon_bin,\n",
    "  SUM(if(measure_new_score>.5,hours,0)) hours,\n",
    "#   SUM(hours*measure_new_score) hours_weighted,\n",
    "  //INTEGER(IF(LENGTH(STRING(mmsi))= 9,LEFT(STRING(mmsi),3), '0')) code\n",
    "FROM (\n",
    "  SELECT\n",
    "    lat,\n",
    "    lon,\n",
    "    mmsi,\n",
    "    measure_new_score,\n",
    "    hours,\n",
    "    seg_id\n",
    "  FROM\n",
    "      TABLE_DATE_RANGE([pipeline_classify_logistic_715_fishing.], TIMESTAMP(\"{year}-01-01\"), TIMESTAMP(\"{year}-12-31\"))\n",
    "  WHERE\n",
    "   lat > {min_lat}\n",
    "   AND lat < {max_lat}\n",
    "   AND lon > {min_lon}\n",
    "   AND lon < {max_lon})\n",
    "WHERE\n",
    "  seg_id IN (\n",
    "  SELECT\n",
    "    seg_id\n",
    "  FROM\n",
    "    [scratch_david_seg_analysis.good_segments] )\n",
    "  AND mmsi IN (\n",
    "  SELECT\n",
    "    mmsi\n",
    "  FROM (\n",
    "    SELECT\n",
    "      mmsi,\n",
    "      SUM(active_points) tot_active_points,\n",
    "    FROM\n",
    "      [scratch_david.{year}_mmsi_summaries_v2]\n",
    "    GROUP BY\n",
    "      mmsi\n",
    "    HAVING\n",
    "      tot_active_points > 500) )\n",
    "GROUP BY\n",
    "  lat_bin,\n",
    "  lon_bin\n",
    "order by lat_bin, lon_bin\n",
    "'''.format(one_over_cellsize = one_over_cellsize, min_lat = min_lat,\n",
    "           max_lat = max_lat, min_lon = min_lon, max_lon = max_lon, year = year)\n",
    "fishing = Query(q)"
   ]
  },
  {
   "cell_type": "code",
   "execution_count": 15,
   "metadata": {
    "collapsed": false
   },
   "outputs": [],
   "source": [
    "with open(\"2015_fishing_hours.csv\", 'w') as csvfile:\n",
    "    writer = csv.writer(csvfile)\n",
    "    writer.writerow([\"lat\",\"lon\",\"fishing hours\"])\n",
    "    writer.writerows(fishing)"
   ]
  }
 ],
 "metadata": {
  "kernelspec": {
   "display_name": "Python 2",
   "language": "python",
   "name": "python2"
  },
  "language_info": {
   "codemirror_mode": {
    "name": "ipython",
    "version": 2
   },
   "file_extension": ".py",
   "mimetype": "text/x-python",
   "name": "python",
   "nbconvert_exporter": "python",
   "pygments_lexer": "ipython2",
   "version": "2.7.3"
  }
 },
 "nbformat": 4,
 "nbformat_minor": 0
}
